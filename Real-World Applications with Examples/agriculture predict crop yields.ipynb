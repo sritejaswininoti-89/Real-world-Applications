{
 "cells": [
  {
   "cell_type": "code",
   "execution_count": 2,
   "metadata": {},
   "outputs": [
    {
     "name": "stdout",
     "output_type": "stream",
     "text": [
      "Defaulting to user installation because normal site-packages is not writeable\n",
      "Collecting kagglehub\n",
      "  Downloading kagglehub-0.3.8-py3-none-any.whl.metadata (30 kB)\n",
      "Requirement already satisfied: packaging in c:\\programdata\\anaconda3\\lib\\site-packages (from kagglehub) (24.1)\n",
      "Requirement already satisfied: requests in c:\\programdata\\anaconda3\\lib\\site-packages (from kagglehub) (2.32.3)\n",
      "Requirement already satisfied: tqdm in c:\\programdata\\anaconda3\\lib\\site-packages (from kagglehub) (4.66.5)\n",
      "Requirement already satisfied: charset-normalizer<4,>=2 in c:\\programdata\\anaconda3\\lib\\site-packages (from requests->kagglehub) (3.3.2)\n",
      "Requirement already satisfied: idna<4,>=2.5 in c:\\programdata\\anaconda3\\lib\\site-packages (from requests->kagglehub) (3.7)\n",
      "Requirement already satisfied: urllib3<3,>=1.21.1 in c:\\programdata\\anaconda3\\lib\\site-packages (from requests->kagglehub) (2.2.3)\n",
      "Requirement already satisfied: certifi>=2017.4.17 in c:\\programdata\\anaconda3\\lib\\site-packages (from requests->kagglehub) (2024.8.30)\n",
      "Requirement already satisfied: colorama in c:\\programdata\\anaconda3\\lib\\site-packages (from tqdm->kagglehub) (0.4.6)\n",
      "Downloading kagglehub-0.3.8-py3-none-any.whl (55 kB)\n",
      "Installing collected packages: kagglehub\n",
      "Successfully installed kagglehub-0.3.8\n",
      "Note: you may need to restart the kernel to use updated packages.\n"
     ]
    }
   ],
   "source": [
    "pip install kagglehub"
   ]
  },
  {
   "cell_type": "code",
   "execution_count": 3,
   "metadata": {},
   "outputs": [
    {
     "name": "stdout",
     "output_type": "stream",
     "text": [
      "Downloading from https://www.kaggle.com/api/v1/datasets/download/abhinand05/crop-production-in-india?dataset_version_number=1...\n"
     ]
    },
    {
     "name": "stderr",
     "output_type": "stream",
     "text": [
      "100%|██████████| 1.96M/1.96M [00:01<00:00, 1.22MB/s]"
     ]
    },
    {
     "name": "stdout",
     "output_type": "stream",
     "text": [
      "Extracting files...\n",
      "Path to dataset files: C:\\Users\\srite\\.cache\\kagglehub\\datasets\\abhinand05\\crop-production-in-india\\versions\\1\n"
     ]
    },
    {
     "name": "stderr",
     "output_type": "stream",
     "text": [
      "\n"
     ]
    }
   ],
   "source": [
    "import kagglehub\n",
    "\n",
    "# Download latest version\n",
    "path = kagglehub.dataset_download(\"abhinand05/crop-production-in-india\")\n",
    "\n",
    "print(\"Path to dataset files:\", path)"
   ]
  },
  {
   "cell_type": "code",
   "execution_count": 4,
   "metadata": {},
   "outputs": [
    {
     "name": "stdout",
     "output_type": "stream",
     "text": [
      "Index(['Crop_Year', 'Area', 'Production', 'State_Name_Andhra Pradesh',\n",
      "       'State_Name_Arunachal Pradesh', 'State_Name_Assam', 'State_Name_Bihar',\n",
      "       'State_Name_Chandigarh', 'State_Name_Chhattisgarh',\n",
      "       'State_Name_Dadra and Nagar Haveli',\n",
      "       ...\n",
      "       'Crop_Turmeric', 'Crop_Turnip', 'Crop_Urad', 'Crop_Varagu',\n",
      "       'Crop_Water Melon', 'Crop_Wheat', 'Crop_Yam', 'Crop_other fibres',\n",
      "       'Crop_other misc. pulses', 'Crop_other oilseeds'],\n",
      "      dtype='object', length=808)\n"
     ]
    }
   ],
   "source": [
    "print(data.columns)"
   ]
  },
  {
   "cell_type": "code",
   "execution_count": 5,
   "metadata": {},
   "outputs": [
    {
     "name": "stdout",
     "output_type": "stream",
     "text": [
      "   Crop_Year    Area  Production  State_Name_Andhra Pradesh  \\\n",
      "0       2000  1254.0      2000.0                      False   \n",
      "1       2000     2.0         1.0                      False   \n",
      "2       2000   102.0       321.0                      False   \n",
      "3       2000   176.0       641.0                      False   \n",
      "4       2000   720.0       165.0                      False   \n",
      "\n",
      "   State_Name_Arunachal Pradesh  State_Name_Assam  State_Name_Bihar  \\\n",
      "0                         False             False             False   \n",
      "1                         False             False             False   \n",
      "2                         False             False             False   \n",
      "3                         False             False             False   \n",
      "4                         False             False             False   \n",
      "\n",
      "   State_Name_Chandigarh  State_Name_Chhattisgarh  \\\n",
      "0                  False                    False   \n",
      "1                  False                    False   \n",
      "2                  False                    False   \n",
      "3                  False                    False   \n",
      "4                  False                    False   \n",
      "\n",
      "   State_Name_Dadra and Nagar Haveli  ...  Crop_Turmeric  Crop_Turnip  \\\n",
      "0                              False  ...          False        False   \n",
      "1                              False  ...          False        False   \n",
      "2                              False  ...          False        False   \n",
      "3                              False  ...          False        False   \n",
      "4                              False  ...          False        False   \n",
      "\n",
      "   Crop_Urad  Crop_Varagu  Crop_Water Melon  Crop_Wheat  Crop_Yam  \\\n",
      "0      False        False             False       False     False   \n",
      "1      False        False             False       False     False   \n",
      "2      False        False             False       False     False   \n",
      "3      False        False             False       False     False   \n",
      "4      False        False             False       False     False   \n",
      "\n",
      "   Crop_other fibres  Crop_other misc. pulses  Crop_other oilseeds  \n",
      "0              False                    False                False  \n",
      "1              False                    False                False  \n",
      "2              False                    False                False  \n",
      "3              False                    False                False  \n",
      "4              False                    False                False  \n",
      "\n",
      "[5 rows x 808 columns]\n"
     ]
    }
   ],
   "source": [
    "print(data.head())"
   ]
  },
  {
   "cell_type": "code",
   "execution_count": 6,
   "metadata": {},
   "outputs": [
    {
     "name": "stdout",
     "output_type": "stream",
     "text": [
      "                    State_Name District_Name  Crop_Year       Season  \\\n",
      "0  Andaman and Nicobar Islands      NICOBARS       2000  Kharif        \n",
      "1  Andaman and Nicobar Islands      NICOBARS       2000  Kharif        \n",
      "2  Andaman and Nicobar Islands      NICOBARS       2000  Kharif        \n",
      "3  Andaman and Nicobar Islands      NICOBARS       2000  Whole Year    \n",
      "4  Andaman and Nicobar Islands      NICOBARS       2000  Whole Year    \n",
      "\n",
      "                  Crop    Area  Production  \n",
      "0             Arecanut  1254.0      2000.0  \n",
      "1  Other Kharif pulses     2.0         1.0  \n",
      "2                 Rice   102.0       321.0  \n",
      "3               Banana   176.0       641.0  \n",
      "4            Cashewnut   720.0       165.0  \n",
      "Index(['State_Name', 'District_Name', 'Crop_Year', 'Season', 'Crop', 'Area',\n",
      "       'Production'],\n",
      "      dtype='object')\n",
      "Error: 'Yield' column not found in the dataset.\n"
     ]
    }
   ],
   "source": [
    "import pandas as pd\n",
    "from sklearn.model_selection import train_test_split\n",
    "from sklearn.ensemble import RandomForestRegressor\n",
    "from sklearn.metrics import mean_squared_error, r2_score\n",
    "\n",
    "# Load the dataset from a local file\n",
    "data = pd.read_csv(\"C://Users//srite//OneDrive//crop_production.csv\")\n",
    "\n",
    "# Display the first few rows of the dataset\n",
    "print(data.head())\n",
    "\n",
    "# Check column names\n",
    "print(data.columns)\n",
    "\n",
    "# Verify if 'Yield' column exists\n",
    "if 'Yield' in data.columns:\n",
    "    # Preprocessing\n",
    "    # Encode categorical variables (e.g., crop type)\n",
    "    data = pd.get_dummies(data, drop_first=True)\n",
    "\n",
    "    # Split data into features and target\n",
    "    X = data.drop(columns=['Yield'])\n",
    "    y = data['Yield']\n",
    "\n",
    "    # Split into training and testing sets\n",
    "    X_train, X_test, y_train, y_test = train_test_split(X, y, test_size=0.2, random_state=42)\n",
    "\n",
    "    # Train a Random Forest Regressor\n",
    "    model = RandomForestRegressor(n_estimators=100, random_state=42)\n",
    "    model.fit(X_train, y_train)\n",
    "\n",
    "    # Evaluate the model\n",
    "    y_pred = model.predict(X_test)\n",
    "    print(\"Mean Squared Error:\", mean_squared_error(y_test, y_pred))\n",
    "    print(\"R² Score:\", r2_score(y_test, y_pred))\n",
    "else:\n",
    "    print(\"Error: 'Yield' column not found in the dataset.\")"
   ]
  },
  {
   "cell_type": "code",
   "execution_count": null,
   "metadata": {},
   "outputs": [],
   "source": []
  }
 ],
 "metadata": {
  "kernelspec": {
   "display_name": "base",
   "language": "python",
   "name": "python3"
  },
  "language_info": {
   "codemirror_mode": {
    "name": "ipython",
    "version": 3
   },
   "file_extension": ".py",
   "mimetype": "text/x-python",
   "name": "python",
   "nbconvert_exporter": "python",
   "pygments_lexer": "ipython3",
   "version": "3.12.7"
  }
 },
 "nbformat": 4,
 "nbformat_minor": 2
}
