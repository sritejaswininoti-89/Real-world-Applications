{
 "cells": [
  {
   "cell_type": "code",
   "execution_count": 2,
   "metadata": {},
   "outputs": [
    {
     "name": "stdout",
     "output_type": "stream",
     "text": [
      "Downloading from https://www.kaggle.com/api/v1/datasets/download/iamprateek/wallmart-sales-forecast-datasets?dataset_version_number=1...\n"
     ]
    },
    {
     "name": "stderr",
     "output_type": "stream",
     "text": [
      "100%|██████████| 3.36M/3.36M [00:02<00:00, 1.61MB/s]"
     ]
    },
    {
     "name": "stdout",
     "output_type": "stream",
     "text": [
      "Extracting files...\n",
      "Path to dataset files: C:\\Users\\srite\\.cache\\kagglehub\\datasets\\iamprateek\\wallmart-sales-forecast-datasets\\versions\\1\n"
     ]
    },
    {
     "name": "stderr",
     "output_type": "stream",
     "text": [
      "\n"
     ]
    }
   ],
   "source": [
    "import kagglehub\n",
    "\n",
    "# Download latest version\n",
    "path = kagglehub.dataset_download(\"iamprateek/wallmart-sales-forecast-datasets\")\n",
    "\n",
    "print(\"Path to dataset files:\", path)"
   ]
  },
  {
   "cell_type": "code",
   "execution_count": 5,
   "metadata": {},
   "outputs": [
    {
     "name": "stdout",
     "output_type": "stream",
     "text": [
      "Index(['Store', 'Temperature', 'Fuel_Price', 'MarkDown1', 'MarkDown2',\n",
      "       'MarkDown3', 'MarkDown4', 'MarkDown5', 'CPI', 'Unemployment',\n",
      "       'IsHoliday', 'Year', 'Month', 'Day'],\n",
      "      dtype='object')\n"
     ]
    }
   ],
   "source": [
    "print(data.columns)"
   ]
  },
  {
   "cell_type": "code",
   "execution_count": 6,
   "metadata": {},
   "outputs": [
    {
     "name": "stdout",
     "output_type": "stream",
     "text": [
      "   Store  Temperature  Fuel_Price  MarkDown1  MarkDown2  MarkDown3  MarkDown4  \\\n",
      "0      1        42.31       2.572        NaN        NaN        NaN        NaN   \n",
      "1      1        38.51       2.548        NaN        NaN        NaN        NaN   \n",
      "2      1        39.93       2.514        NaN        NaN        NaN        NaN   \n",
      "3      1        46.63       2.561        NaN        NaN        NaN        NaN   \n",
      "4      1        46.50       2.625        NaN        NaN        NaN        NaN   \n",
      "\n",
      "   MarkDown5         CPI  Unemployment  IsHoliday  Year  Month  Day  \n",
      "0        NaN  211.096358         8.106      False  2010      2    5  \n",
      "1        NaN  211.242170         8.106       True  2010      2   12  \n",
      "2        NaN  211.289143         8.106      False  2010      2   19  \n",
      "3        NaN  211.319643         8.106      False  2010      2   26  \n",
      "4        NaN  211.350143         8.106      False  2010      3    5  \n"
     ]
    }
   ],
   "source": [
    "print(data.head())"
   ]
  },
  {
   "cell_type": "code",
   "execution_count": 7,
   "metadata": {},
   "outputs": [
    {
     "name": "stdout",
     "output_type": "stream",
     "text": [
      "   Store  Dept       Date  Weekly_Sales  IsHoliday\n",
      "0      1     1   2/5/2010      24924.50      False\n",
      "1      1     1  2/12/2010      46039.49       True\n",
      "2      1     1  2/19/2010      41595.55      False\n",
      "3      1     1  2/26/2010      19403.54      False\n",
      "4      1     1   3/5/2010      21827.90      False\n",
      "Index(['Store', 'Dept', 'Date', 'Weekly_Sales', 'IsHoliday'], dtype='object')\n",
      "Mean Squared Error: 45132194.34096765\n",
      "R² Score: 0.9134521479480503\n"
     ]
    }
   ],
   "source": [
    "import pandas as pd\n",
    "from sklearn.model_selection import train_test_split\n",
    "from sklearn.ensemble import RandomForestRegressor\n",
    "from sklearn.metrics import mean_squared_error, r2_score\n",
    "\n",
    "# Load the dataset from a local file or URL\n",
    "# Example: Load from a local file\n",
    "data = pd.read_csv(\"C://Users//srite//OneDrive//train.csv\")\n",
    "\n",
    "# Display the first few rows of the dataset\n",
    "print(data.head())\n",
    "\n",
    "# Check column names\n",
    "print(data.columns)\n",
    "\n",
    "# Verify if 'Weekly_Sales' column exists\n",
    "if 'Weekly_Sales' in data.columns:\n",
    "    # Preprocessing\n",
    "    # Encode categorical variables (if any)\n",
    "    data = pd.get_dummies(data, drop_first=True)\n",
    "\n",
    "    # Split data into features and target\n",
    "    X = data.drop(columns=['Weekly_Sales'])\n",
    "    y = data['Weekly_Sales']\n",
    "\n",
    "    # Split into training and testing sets\n",
    "    X_train, X_test, y_train, y_test = train_test_split(X, y, test_size=0.2, random_state=42)\n",
    "\n",
    "    # Train a Random Forest Regressor\n",
    "    model = RandomForestRegressor(n_estimators=100, random_state=42)\n",
    "    model.fit(X_train, y_train)\n",
    "\n",
    "    # Evaluate the model\n",
    "    y_pred = model.predict(X_test)\n",
    "    print(\"Mean Squared Error:\", mean_squared_error(y_test, y_pred))\n",
    "    print(\"R² Score:\", r2_score(y_test, y_pred))\n",
    "else:\n",
    "    print(\"Error: 'Weekly_Sales' column not found in the dataset.\")"
   ]
  },
  {
   "cell_type": "code",
   "execution_count": 8,
   "metadata": {},
   "outputs": [
    {
     "name": "stdout",
     "output_type": "stream",
     "text": [
      "Index(['Store', 'Dept', 'Weekly_Sales', 'IsHoliday', 'Date_1/14/2011',\n",
      "       'Date_1/20/2012', 'Date_1/21/2011', 'Date_1/27/2012', 'Date_1/28/2011',\n",
      "       'Date_1/6/2012',\n",
      "       ...\n",
      "       'Date_9/17/2010', 'Date_9/2/2011', 'Date_9/21/2012', 'Date_9/23/2011',\n",
      "       'Date_9/24/2010', 'Date_9/28/2012', 'Date_9/3/2010', 'Date_9/30/2011',\n",
      "       'Date_9/7/2012', 'Date_9/9/2011'],\n",
      "      dtype='object', length=146)\n"
     ]
    }
   ],
   "source": [
    "print(data.columns)"
   ]
  },
  {
   "cell_type": "code",
   "execution_count": null,
   "metadata": {},
   "outputs": [],
   "source": []
  }
 ],
 "metadata": {
  "kernelspec": {
   "display_name": "base",
   "language": "python",
   "name": "python3"
  },
  "language_info": {
   "codemirror_mode": {
    "name": "ipython",
    "version": 3
   },
   "file_extension": ".py",
   "mimetype": "text/x-python",
   "name": "python",
   "nbconvert_exporter": "python",
   "pygments_lexer": "ipython3",
   "version": "3.12.7"
  }
 },
 "nbformat": 4,
 "nbformat_minor": 2
}
